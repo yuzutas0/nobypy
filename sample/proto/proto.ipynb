{
 "cells": [
  {
   "cell_type": "code",
   "execution_count": null,
   "metadata": {},
   "outputs": [],
   "source": [
    "class Responder():\n",
    "    def __init__(self, name):\n",
    "        self.name = name\n",
    "    \n",
    "    def response(self, input_text):\n",
    "        return f\"{input_text}ってなに？\"\n",
    "\n",
    "\n",
    "class Unmo():\n",
    "    def __init__(self, name):\n",
    "        self.name = name\n",
    "        self.responder = Responder('What')\n",
    "    \n",
    "    def dialogue(self, input_text):\n",
    "        return self.responder.response(input_text)\n",
    "\n",
    "\n",
    "def prompt(unmo):\n",
    "    return f\"{unmo.name}:{unmo.responder.name} > \"\n",
    "\n",
    "print('Unmo System prototype : proto')\n",
    "proto = Unmo('proto')\n",
    "\n",
    "while True:\n",
    "    print('> ')\n",
    "    input_text = input()\n",
    "    input_text = input_text.rstrip()\n",
    "    if input_text == '':\n",
    "        break\n",
    "    response = proto.dialogue(input_text)\n",
    "    print(prompt(proto) + response)\n",
    "\n",
    "\n",
    "print('shutdown')"
   ]
  },
  {
   "cell_type": "code",
   "execution_count": null,
   "metadata": {
    "collapsed": true
   },
   "outputs": [],
   "source": []
  }
 ],
 "metadata": {
  "kernelspec": {
   "display_name": "Python 3",
   "language": "python",
   "name": "python3"
  },
  "language_info": {
   "codemirror_mode": {
    "name": "ipython",
    "version": 3
   },
   "file_extension": ".py",
   "mimetype": "text/x-python",
   "name": "python",
   "nbconvert_exporter": "python",
   "pygments_lexer": "ipython3",
   "version": "3.6.1"
  }
 },
 "nbformat": 4,
 "nbformat_minor": 2
}
