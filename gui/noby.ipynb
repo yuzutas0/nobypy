{
 "cells": [
  {
   "cell_type": "code",
   "execution_count": null,
   "metadata": {},
   "outputs": [],
   "source": [
    "# -*- coding: utf-8 -*-\n",
    "\n",
    "from unmo import Unmo\n",
    "from IPython.display import Image, display_png, clear_output\n",
    "import os\n",
    "import random\n",
    "\n",
    "\n",
    "def prompt(unmo):\n",
    "    return f\"{unmo.name}:{unmo.responder.name} > \"\n",
    "\n",
    "\n",
    "print('Unmo System prototype : proto')\n",
    "noby = Unmo('noby')\n",
    "log = ''\n",
    "files = os.listdir('./images')\n",
    "\n",
    "while True:\n",
    "    clear_output(wait=True)\n",
    "    image_file = 'images/' + random.choice(files)\n",
    "    display_png(Image(image_file))\n",
    "    print(log)\n",
    "    print('> ')\n",
    "    input_text = input()\n",
    "    input_text = input_text.rstrip()\n",
    "    if input_text == '':\n",
    "        break\n",
    "    response = noby.dialogue(input_text)\n",
    "    log = log + 'you > ' + input_text + '\\n' + prompt(noby) + response + '\\n'\n",
    "\n",
    "\n",
    "print('shutdown')\n"
   ]
  },
  {
   "cell_type": "code",
   "execution_count": null,
   "metadata": {
    "collapsed": true
   },
   "outputs": [],
   "source": []
  },
  {
   "cell_type": "code",
   "execution_count": null,
   "metadata": {
    "collapsed": true
   },
   "outputs": [],
   "source": []
  }
 ],
 "metadata": {
  "kernelspec": {
   "display_name": "Python 3",
   "language": "python",
   "name": "python3"
  },
  "language_info": {
   "codemirror_mode": {
    "name": "ipython",
    "version": 3
   },
   "file_extension": ".py",
   "mimetype": "text/x-python",
   "name": "python",
   "nbconvert_exporter": "python",
   "pygments_lexer": "ipython3",
   "version": "3.6.1"
  }
 },
 "nbformat": 4,
 "nbformat_minor": 2
}
