{
 "cells": [
  {
   "cell_type": "code",
   "execution_count": null,
   "metadata": {
    "collapsed": true,
    "scrolled": true
   },
   "outputs": [],
   "source": [
    "from draw import start"
   ]
  },
  {
   "cell_type": "code",
   "execution_count": null,
   "metadata": {
    "collapsed": true
   },
   "outputs": [],
   "source": [
    "start()"
   ]
  },
  {
   "cell_type": "code",
   "execution_count": 9,
   "metadata": {},
   "outputs": [
    {
     "name": "stdout",
     "output_type": "stream",
     "text": [
      "python\n",
      "名詞\n",
      "固有名詞\n",
      "組織\n",
      "*\n",
      "*\n",
      "*\n",
      "python\n",
      "*\n",
      "*\n",
      "UNKNOWN\n",
      "の\n",
      "助詞\n",
      "連体化\n",
      "*\n",
      "*\n",
      "*\n",
      "*\n",
      "の\n",
      "ノ\n",
      "ノ\n",
      "SYS_DICT\n",
      "本\n",
      "名詞\n",
      "一般\n",
      "*\n",
      "*\n",
      "*\n",
      "*\n",
      "本\n",
      "ホン\n",
      "ホン\n",
      "SYS_DICT\n",
      "を\n",
      "助詞\n",
      "格助詞\n",
      "一般\n",
      "*\n",
      "*\n",
      "*\n",
      "を\n",
      "ヲ\n",
      "ヲ\n",
      "SYS_DICT\n",
      "読ん\n",
      "動詞\n",
      "自立\n",
      "*\n",
      "*\n",
      "五段・マ行\n",
      "連用タ接続\n",
      "読む\n",
      "ヨン\n",
      "ヨン\n",
      "SYS_DICT\n",
      "だ\n",
      "助動詞\n",
      "*\n",
      "*\n",
      "*\n",
      "特殊・タ\n",
      "基本形\n",
      "だ\n",
      "ダ\n",
      "ダ\n",
      "SYS_DICT\n"
     ]
    }
   ],
   "source": [
    "from janome.tokenizer import Tokenizer\n",
    " \n",
    "t = Tokenizer()\n",
    "tokens = t.tokenize('pythonの本を読んだ')\n",
    " \n",
    "for token in tokens:\n",
    "    print(token.surface)                  # 表層形\n",
    "    print(token.part_of_speech.split(',')[0])   # 品詞\n",
    "    print(token.part_of_speech.split(',')[1])   # 品詞細分類1\n",
    "    print(token.part_of_speech.split(',')[2])   # 品詞細分類2\n",
    "    print(token.part_of_speech.split(',')[3])   # 品詞細分類3\n",
    "    print(token.infl_type)                      # 活用型\n",
    "    print(token.infl_form)                      # 活用形\n",
    "    print(token.base_form)                      # 原形\n",
    "    print(token.reading)                        # 読み\n",
    "    print(token.phonetic)                       # 発音\n",
    "    print(token.node_type)                      # node_type"
   ]
  },
  {
   "cell_type": "code",
   "execution_count": null,
   "metadata": {
    "collapsed": true
   },
   "outputs": [],
   "source": []
  }
 ],
 "metadata": {
  "kernelspec": {
   "display_name": "Python 3",
   "language": "python",
   "name": "python3"
  },
  "language_info": {
   "codemirror_mode": {
    "name": "ipython",
    "version": 3
   },
   "file_extension": ".py",
   "mimetype": "text/x-python",
   "name": "python",
   "nbconvert_exporter": "python",
   "pygments_lexer": "ipython3",
   "version": "3.6.1"
  }
 },
 "nbformat": 4,
 "nbformat_minor": 2
}
